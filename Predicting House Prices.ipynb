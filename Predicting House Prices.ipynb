{
 "cells": [
  {
   "cell_type": "code",
   "execution_count": 1,
   "id": "794caaea",
   "metadata": {},
   "outputs": [],
   "source": [
    "import pandas as pd\n",
    "import numpy as np\n",
    "from sklearn.decomposition import PCA\n",
    "from sklearn.model_selection import train_test_split\n",
    "from sklearn.preprocessing import StandardScaler\n",
    "from sklearn.linear_model import LinearRegression\n",
    "from sklearn.metrics import mean_squared_error, mean_absolute_error\n",
    "from sklearn.ensemble import AdaBoostRegressor"
   ]
  },
  {
   "cell_type": "markdown",
   "id": "61edea42",
   "metadata": {},
   "source": [
    "# Open the [Ames Housing Dataset ](https://www.kaggle.com/datasets/thedevastator/predicting-credit-card-customer-attrition-with-m?select=BankChurners.csv)"
   ]
  },
  {
   "cell_type": "code",
   "execution_count": 2,
   "id": "a420b936",
   "metadata": {},
   "outputs": [],
   "source": [
    "#Open the housing data and split into training/test data\n",
    "houses = pd.read_csv('AmesHousing.csv')\n",
    "prices = houses['SalePrice']\n",
    "\n",
    "#Remove the PID and order columns\n",
    "houses.drop(['PID'], axis=1, inplace=True)\n",
    "houses.drop(['Order'], axis=1, inplace=True)"
   ]
  },
  {
   "cell_type": "markdown",
   "id": "3fa7d9e9",
   "metadata": {},
   "source": [
    "# Exploring the data"
   ]
  },
  {
   "cell_type": "code",
   "execution_count": 3,
   "id": "a1952bae",
   "metadata": {},
   "outputs": [
    {
     "data": {
      "text/plain": [
       "Index(['MS SubClass', 'MS Zoning', 'Lot Frontage', 'Lot Area', 'Street',\n",
       "       'Alley', 'Lot Shape', 'Land Contour', 'Utilities', 'Lot Config',\n",
       "       'Land Slope', 'Neighborhood', 'Condition 1', 'Condition 2', 'Bldg Type',\n",
       "       'House Style', 'Overall Qual', 'Overall Cond', 'Year Built',\n",
       "       'Year Remod/Add', 'Roof Style', 'Roof Matl', 'Exterior 1st',\n",
       "       'Exterior 2nd', 'Mas Vnr Type', 'Mas Vnr Area', 'Exter Qual',\n",
       "       'Exter Cond', 'Foundation', 'Bsmt Qual', 'Bsmt Cond', 'Bsmt Exposure',\n",
       "       'BsmtFin Type 1', 'BsmtFin SF 1', 'BsmtFin Type 2', 'BsmtFin SF 2',\n",
       "       'Bsmt Unf SF', 'Total Bsmt SF', 'Heating', 'Heating QC', 'Central Air',\n",
       "       'Electrical', '1st Flr SF', '2nd Flr SF', 'Low Qual Fin SF',\n",
       "       'Gr Liv Area', 'Bsmt Full Bath', 'Bsmt Half Bath', 'Full Bath',\n",
       "       'Half Bath', 'Bedroom AbvGr', 'Kitchen AbvGr', 'Kitchen Qual',\n",
       "       'TotRms AbvGrd', 'Functional', 'Fireplaces', 'Fireplace Qu',\n",
       "       'Garage Type', 'Garage Yr Blt', 'Garage Finish', 'Garage Cars',\n",
       "       'Garage Area', 'Garage Qual', 'Garage Cond', 'Paved Drive',\n",
       "       'Wood Deck SF', 'Open Porch SF', 'Enclosed Porch', '3Ssn Porch',\n",
       "       'Screen Porch', 'Pool Area', 'Pool QC', 'Fence', 'Misc Feature',\n",
       "       'Misc Val', 'Mo Sold', 'Yr Sold', 'Sale Type', 'Sale Condition',\n",
       "       'SalePrice'],\n",
       "      dtype='object')"
      ]
     },
     "execution_count": 3,
     "metadata": {},
     "output_type": "execute_result"
    }
   ],
   "source": [
    "houses.columns"
   ]
  },
  {
   "cell_type": "code",
   "execution_count": 4,
   "id": "0940bfcf",
   "metadata": {},
   "outputs": [
    {
     "name": "stdout",
     "output_type": "stream",
     "text": [
      "There are 79 total features, excluding sale price.\n"
     ]
    }
   ],
   "source": [
    "print('There are '+ str(houses.shape[1]-1)+' total features, excluding sale price.')"
   ]
  },
  {
   "cell_type": "code",
   "execution_count": 5,
   "id": "ef3962d8",
   "metadata": {},
   "outputs": [
    {
     "name": "stdout",
     "output_type": "stream",
     "text": [
      "The min year for which a house was sold is 2006 and the last year for which a house was sold in this dataset was 2010\n"
     ]
    }
   ],
   "source": [
    "min_year_sold = houses['Yr Sold'].min()\n",
    "max_year_sold = houses['Yr Sold'].max()\n",
    "\n",
    "print('The min year for which a house was sold is '+str(min_year_sold)+' and the last year for which a house was sold in this dataset was '+\n",
    "     str(max_year_sold))"
   ]
  },
  {
   "cell_type": "markdown",
   "id": "ef7225f3",
   "metadata": {},
   "source": [
    "# There are missing or NA entries for several of the columns"
   ]
  },
  {
   "cell_type": "markdown",
   "id": "eaf915c6",
   "metadata": {},
   "source": [
    "For the Alley column, the possible entries are\n",
    " 'Grvl' Gravel\n",
    " 'Pave' Paved\n",
    " 'NA' No alley access\n",
    "  Most of the entries for alley are 'NA'. We drop this column."
   ]
  },
  {
   "cell_type": "code",
   "execution_count": 6,
   "id": "49b48489",
   "metadata": {},
   "outputs": [
    {
     "name": "stdout",
     "output_type": "stream",
     "text": [
      "2732\n"
     ]
    }
   ],
   "source": [
    "print(houses['Alley'].isna().sum())\n",
    "\n",
    "#Drop alley\n",
    "houses.drop(['Alley'], axis=1, inplace=True)"
   ]
  },
  {
   "cell_type": "code",
   "execution_count": 7,
   "id": "045363cb",
   "metadata": {},
   "outputs": [
    {
     "name": "stdout",
     "output_type": "stream",
     "text": [
      "Lot Frontage\n",
      "Mas Vnr Type\n",
      "Mas Vnr Area\n",
      "Bsmt Qual\n",
      "Bsmt Cond\n",
      "Bsmt Exposure\n",
      "BsmtFin Type 1\n",
      "BsmtFin SF 1\n",
      "BsmtFin Type 2\n",
      "BsmtFin SF 2\n",
      "Bsmt Unf SF\n",
      "Total Bsmt SF\n",
      "Electrical\n",
      "Bsmt Full Bath\n",
      "Bsmt Half Bath\n",
      "Fireplace Qu\n",
      "Garage Type\n",
      "Garage Yr Blt\n",
      "Garage Finish\n",
      "Garage Cars\n",
      "Garage Area\n",
      "Garage Qual\n",
      "Garage Cond\n",
      "Pool QC\n",
      "Fence\n",
      "Misc Feature\n"
     ]
    }
   ],
   "source": [
    "missing = []\n",
    "for col in houses.columns:\n",
    "    c=houses[col].isna().sum()\n",
    "    if c>0 and col!='Alley':\n",
    "        print(col)\n",
    "        missing.append(col)"
   ]
  },
  {
   "cell_type": "markdown",
   "id": "fc463920",
   "metadata": {},
   "source": [
    "# Data Cleaning. For categorical variables, we convert 'NA' entries to the string 'NA'. For numerical features, we convert NaN entries to the mean of that column."
   ]
  },
  {
   "cell_type": "code",
   "execution_count": 8,
   "id": "3a73f155",
   "metadata": {},
   "outputs": [],
   "source": [
    "def cleanString(data,column):\n",
    "    data[column].fillna('NA',inplace=True)\n",
    "    return \n",
    "  \n",
    "def cleanNumerical(data,column):\n",
    "    mean = data[column].mean()\n",
    "    \n",
    "    data[column].fillna(mean,inplace=True)\n",
    "\n",
    "def clean(data,column):\n",
    "    if data[column].dtype=='O':\n",
    "        cleanString(data,column)\n",
    "    else:\n",
    "        cleanNumerical(data,column)\n"
   ]
  },
  {
   "cell_type": "code",
   "execution_count": 9,
   "id": "8bdcaa7d",
   "metadata": {},
   "outputs": [],
   "source": [
    "for col in missing:\n",
    "    clean(houses, col)"
   ]
  },
  {
   "cell_type": "markdown",
   "id": "fcb308a9",
   "metadata": {},
   "source": [
    "# Next, we use one hot encoding to convert categorical variables into numerical variables.\n",
    "We include Mo Sold and MS SubClass, which are numerical variables. MS SubClass identifies the type of dwelling.\n",
    "MS Subclass has discrete values ranging from 20 (1-story 1946 & newer all styles) to 190 (2 family conversion- all styles and ages)"
   ]
  },
  {
   "cell_type": "code",
   "execution_count": 10,
   "id": "c0c84a9d",
   "metadata": {},
   "outputs": [],
   "source": [
    "one_hot_variables=['Mo Sold', 'MS SubClass']\n",
    "for col in houses.columns:\n",
    "    if houses[col].dtype=='O':\n",
    "        one_hot_variables.append(col)\n",
    "\n",
    "houses = pd.get_dummies(houses, columns = one_hot_variables)\n",
    "        "
   ]
  },
  {
   "cell_type": "code",
   "execution_count": 11,
   "id": "f33fe5a5",
   "metadata": {},
   "outputs": [
    {
     "data": {
      "text/plain": [
       "Exter Qual_Gd         0.446489\n",
       "Heating QC_Ex         0.454553\n",
       "BsmtFin Type 1_GLQ    0.455326\n",
       "Fireplaces            0.474558\n",
       "Exter Qual_Ex         0.480477\n",
       "TotRms AbvGrd         0.495474\n",
       "Mas Vnr Area          0.505784\n",
       "Garage Yr Blt         0.510684\n",
       "Foundation_PConc      0.520966\n",
       "Year Remod/Add        0.532974\n",
       "Kitchen Qual_Ex       0.537561\n",
       "Full Bath             0.545604\n",
       "Year Built            0.558426\n",
       "Bsmt Qual_Ex          0.593567\n",
       "1st Flr SF            0.621676\n",
       "Total Bsmt SF         0.632105\n",
       "Garage Area           0.640385\n",
       "Garage Cars           0.647861\n",
       "Gr Liv Area           0.706780\n",
       "Overall Qual          0.799262\n",
       "Name: SalePrice, dtype: float64"
      ]
     },
     "execution_count": 11,
     "metadata": {},
     "output_type": "execute_result"
    }
   ],
   "source": [
    "#Display the 20 features that are most correlated with sale price\n",
    "houses.corr()['SalePrice'].sort_values()[-21:houses.shape[1]-1]"
   ]
  },
  {
   "cell_type": "code",
   "execution_count": 12,
   "id": "840fa000",
   "metadata": {},
   "outputs": [],
   "source": [
    "#Drop sale price column\n",
    "houses.drop(['SalePrice'], axis=1, inplace=True)\n",
    "\n",
    "#80/20 Split into training and test data\n",
    "\n",
    "X_train, X_test, y_train, y_test = train_test_split(houses, prices, test_size=.2)"
   ]
  },
  {
   "cell_type": "markdown",
   "id": "54c42b8d",
   "metadata": {},
   "source": [
    "# Use PCA transformation for dimensionality reduction"
   ]
  },
  {
   "cell_type": "code",
   "execution_count": 13,
   "id": "7bfa3f4f",
   "metadata": {},
   "outputs": [
    {
     "data": {
      "text/html": [
       "<div>\n",
       "<style scoped>\n",
       "    .dataframe tbody tr th:only-of-type {\n",
       "        vertical-align: middle;\n",
       "    }\n",
       "\n",
       "    .dataframe tbody tr th {\n",
       "        vertical-align: top;\n",
       "    }\n",
       "\n",
       "    .dataframe thead th {\n",
       "        text-align: right;\n",
       "    }\n",
       "</style>\n",
       "<table border=\"1\" class=\"dataframe\">\n",
       "  <thead>\n",
       "    <tr style=\"text-align: right;\">\n",
       "      <th></th>\n",
       "      <th>Lot Frontage</th>\n",
       "      <th>Lot Area</th>\n",
       "      <th>Overall Qual</th>\n",
       "      <th>Overall Cond</th>\n",
       "      <th>Year Built</th>\n",
       "      <th>Year Remod/Add</th>\n",
       "      <th>Mas Vnr Area</th>\n",
       "      <th>BsmtFin SF 1</th>\n",
       "      <th>BsmtFin SF 2</th>\n",
       "      <th>Bsmt Unf SF</th>\n",
       "      <th>...</th>\n",
       "      <th>Sale Type_New</th>\n",
       "      <th>Sale Type_Oth</th>\n",
       "      <th>Sale Type_VWD</th>\n",
       "      <th>Sale Type_WD</th>\n",
       "      <th>Sale Condition_Abnorml</th>\n",
       "      <th>Sale Condition_AdjLand</th>\n",
       "      <th>Sale Condition_Alloca</th>\n",
       "      <th>Sale Condition_Family</th>\n",
       "      <th>Sale Condition_Normal</th>\n",
       "      <th>Sale Condition_Partial</th>\n",
       "    </tr>\n",
       "  </thead>\n",
       "  <tbody>\n",
       "    <tr>\n",
       "      <th>Lot Frontage</th>\n",
       "      <td>1.000000</td>\n",
       "      <td>0.365503</td>\n",
       "      <td>0.198900</td>\n",
       "      <td>-0.067383</td>\n",
       "      <td>0.115688</td>\n",
       "      <td>0.085744</td>\n",
       "      <td>0.203383</td>\n",
       "      <td>0.199946</td>\n",
       "      <td>0.040161</td>\n",
       "      <td>0.107733</td>\n",
       "      <td>...</td>\n",
       "      <td>0.115477</td>\n",
       "      <td>-0.003721</td>\n",
       "      <td>0.013673</td>\n",
       "      <td>-0.085191</td>\n",
       "      <td>0.003067</td>\n",
       "      <td>-0.046550</td>\n",
       "      <td>0.007688</td>\n",
       "      <td>0.015972</td>\n",
       "      <td>-0.083478</td>\n",
       "      <td>0.113294</td>\n",
       "    </tr>\n",
       "    <tr>\n",
       "      <th>Lot Area</th>\n",
       "      <td>0.365503</td>\n",
       "      <td>1.000000</td>\n",
       "      <td>0.097188</td>\n",
       "      <td>-0.034759</td>\n",
       "      <td>0.023258</td>\n",
       "      <td>0.021682</td>\n",
       "      <td>0.126586</td>\n",
       "      <td>0.191546</td>\n",
       "      <td>0.083145</td>\n",
       "      <td>0.023657</td>\n",
       "      <td>...</td>\n",
       "      <td>0.032328</td>\n",
       "      <td>-0.003937</td>\n",
       "      <td>0.008495</td>\n",
       "      <td>-0.015027</td>\n",
       "      <td>-0.014079</td>\n",
       "      <td>-0.020244</td>\n",
       "      <td>0.024450</td>\n",
       "      <td>0.018232</td>\n",
       "      <td>-0.024052</td>\n",
       "      <td>0.034169</td>\n",
       "    </tr>\n",
       "    <tr>\n",
       "      <th>Overall Qual</th>\n",
       "      <td>0.198900</td>\n",
       "      <td>0.097188</td>\n",
       "      <td>1.000000</td>\n",
       "      <td>-0.094812</td>\n",
       "      <td>0.597027</td>\n",
       "      <td>0.569609</td>\n",
       "      <td>0.427470</td>\n",
       "      <td>0.284011</td>\n",
       "      <td>-0.041272</td>\n",
       "      <td>0.269956</td>\n",
       "      <td>...</td>\n",
       "      <td>0.336153</td>\n",
       "      <td>-0.052845</td>\n",
       "      <td>-0.014340</td>\n",
       "      <td>-0.191898</td>\n",
       "      <td>-0.127738</td>\n",
       "      <td>-0.049768</td>\n",
       "      <td>-0.041004</td>\n",
       "      <td>-0.024062</td>\n",
       "      <td>-0.131968</td>\n",
       "      <td>0.331010</td>\n",
       "    </tr>\n",
       "    <tr>\n",
       "      <th>Overall Cond</th>\n",
       "      <td>-0.067383</td>\n",
       "      <td>-0.034759</td>\n",
       "      <td>-0.094812</td>\n",
       "      <td>1.000000</td>\n",
       "      <td>-0.368773</td>\n",
       "      <td>0.047680</td>\n",
       "      <td>-0.135088</td>\n",
       "      <td>-0.050920</td>\n",
       "      <td>0.041122</td>\n",
       "      <td>-0.136780</td>\n",
       "      <td>...</td>\n",
       "      <td>-0.147645</td>\n",
       "      <td>-0.018507</td>\n",
       "      <td>0.007263</td>\n",
       "      <td>0.161921</td>\n",
       "      <td>-0.059856</td>\n",
       "      <td>-0.051729</td>\n",
       "      <td>-0.025606</td>\n",
       "      <td>-0.031880</td>\n",
       "      <td>0.167683</td>\n",
       "      <td>-0.143081</td>\n",
       "    </tr>\n",
       "    <tr>\n",
       "      <th>Year Built</th>\n",
       "      <td>0.115688</td>\n",
       "      <td>0.023258</td>\n",
       "      <td>0.597027</td>\n",
       "      <td>-0.368773</td>\n",
       "      <td>1.000000</td>\n",
       "      <td>0.612095</td>\n",
       "      <td>0.311828</td>\n",
       "      <td>0.279836</td>\n",
       "      <td>-0.027412</td>\n",
       "      <td>0.128983</td>\n",
       "      <td>...</td>\n",
       "      <td>0.343270</td>\n",
       "      <td>-0.013985</td>\n",
       "      <td>-0.008161</td>\n",
       "      <td>-0.203243</td>\n",
       "      <td>-0.120844</td>\n",
       "      <td>-0.077805</td>\n",
       "      <td>-0.025238</td>\n",
       "      <td>-0.036261</td>\n",
       "      <td>-0.137162</td>\n",
       "      <td>0.338843</td>\n",
       "    </tr>\n",
       "    <tr>\n",
       "      <th>...</th>\n",
       "      <td>...</td>\n",
       "      <td>...</td>\n",
       "      <td>...</td>\n",
       "      <td>...</td>\n",
       "      <td>...</td>\n",
       "      <td>...</td>\n",
       "      <td>...</td>\n",
       "      <td>...</td>\n",
       "      <td>...</td>\n",
       "      <td>...</td>\n",
       "      <td>...</td>\n",
       "      <td>...</td>\n",
       "      <td>...</td>\n",
       "      <td>...</td>\n",
       "      <td>...</td>\n",
       "      <td>...</td>\n",
       "      <td>...</td>\n",
       "      <td>...</td>\n",
       "      <td>...</td>\n",
       "      <td>...</td>\n",
       "      <td>...</td>\n",
       "    </tr>\n",
       "    <tr>\n",
       "      <th>Sale Condition_AdjLand</th>\n",
       "      <td>-0.046550</td>\n",
       "      <td>-0.020244</td>\n",
       "      <td>-0.049768</td>\n",
       "      <td>-0.051729</td>\n",
       "      <td>-0.077805</td>\n",
       "      <td>-0.078199</td>\n",
       "      <td>-0.018507</td>\n",
       "      <td>-0.028191</td>\n",
       "      <td>-0.018855</td>\n",
       "      <td>-0.006412</td>\n",
       "      <td>...</td>\n",
       "      <td>-0.019111</td>\n",
       "      <td>-0.003138</td>\n",
       "      <td>-0.001185</td>\n",
       "      <td>0.025277</td>\n",
       "      <td>-0.016887</td>\n",
       "      <td>1.000000</td>\n",
       "      <td>-0.005828</td>\n",
       "      <td>-0.008099</td>\n",
       "      <td>-0.138542</td>\n",
       "      <td>-0.019371</td>\n",
       "    </tr>\n",
       "    <tr>\n",
       "      <th>Sale Condition_Alloca</th>\n",
       "      <td>0.007688</td>\n",
       "      <td>0.024450</td>\n",
       "      <td>-0.041004</td>\n",
       "      <td>-0.025606</td>\n",
       "      <td>-0.025238</td>\n",
       "      <td>-0.034022</td>\n",
       "      <td>-0.017823</td>\n",
       "      <td>0.025815</td>\n",
       "      <td>-0.026720</td>\n",
       "      <td>-0.061049</td>\n",
       "      <td>...</td>\n",
       "      <td>-0.027083</td>\n",
       "      <td>-0.004447</td>\n",
       "      <td>-0.001679</td>\n",
       "      <td>0.035820</td>\n",
       "      <td>-0.023931</td>\n",
       "      <td>-0.005828</td>\n",
       "      <td>1.000000</td>\n",
       "      <td>-0.011477</td>\n",
       "      <td>-0.196332</td>\n",
       "      <td>-0.027452</td>\n",
       "    </tr>\n",
       "    <tr>\n",
       "      <th>Sale Condition_Family</th>\n",
       "      <td>0.015972</td>\n",
       "      <td>0.018232</td>\n",
       "      <td>-0.024062</td>\n",
       "      <td>-0.031880</td>\n",
       "      <td>-0.036261</td>\n",
       "      <td>-0.049793</td>\n",
       "      <td>-0.017750</td>\n",
       "      <td>-0.026518</td>\n",
       "      <td>-0.002098</td>\n",
       "      <td>0.024427</td>\n",
       "      <td>...</td>\n",
       "      <td>-0.037638</td>\n",
       "      <td>0.050057</td>\n",
       "      <td>-0.002334</td>\n",
       "      <td>-0.014601</td>\n",
       "      <td>-0.033257</td>\n",
       "      <td>-0.008099</td>\n",
       "      <td>-0.011477</td>\n",
       "      <td>1.000000</td>\n",
       "      <td>-0.272844</td>\n",
       "      <td>-0.038150</td>\n",
       "    </tr>\n",
       "    <tr>\n",
       "      <th>Sale Condition_Normal</th>\n",
       "      <td>-0.083478</td>\n",
       "      <td>-0.024052</td>\n",
       "      <td>-0.131968</td>\n",
       "      <td>0.167683</td>\n",
       "      <td>-0.137162</td>\n",
       "      <td>-0.102775</td>\n",
       "      <td>-0.070109</td>\n",
       "      <td>-0.016431</td>\n",
       "      <td>0.069015</td>\n",
       "      <td>-0.151087</td>\n",
       "      <td>...</td>\n",
       "      <td>-0.643836</td>\n",
       "      <td>-0.087383</td>\n",
       "      <td>0.008553</td>\n",
       "      <td>0.620601</td>\n",
       "      <td>-0.568899</td>\n",
       "      <td>-0.138542</td>\n",
       "      <td>-0.196332</td>\n",
       "      <td>-0.272844</td>\n",
       "      <td>1.000000</td>\n",
       "      <td>-0.652596</td>\n",
       "    </tr>\n",
       "    <tr>\n",
       "      <th>Sale Condition_Partial</th>\n",
       "      <td>0.113294</td>\n",
       "      <td>0.034169</td>\n",
       "      <td>0.331010</td>\n",
       "      <td>-0.143081</td>\n",
       "      <td>0.338843</td>\n",
       "      <td>0.323105</td>\n",
       "      <td>0.152010</td>\n",
       "      <td>0.044126</td>\n",
       "      <td>-0.087584</td>\n",
       "      <td>0.246640</td>\n",
       "      <td>...</td>\n",
       "      <td>0.986577</td>\n",
       "      <td>-0.014782</td>\n",
       "      <td>-0.005582</td>\n",
       "      <td>-0.751912</td>\n",
       "      <td>-0.079545</td>\n",
       "      <td>-0.019371</td>\n",
       "      <td>-0.027452</td>\n",
       "      <td>-0.038150</td>\n",
       "      <td>-0.652596</td>\n",
       "      <td>1.000000</td>\n",
       "    </tr>\n",
       "  </tbody>\n",
       "</table>\n",
       "<p>343 rows × 343 columns</p>\n",
       "</div>"
      ],
      "text/plain": [
       "                        Lot Frontage  Lot Area  Overall Qual  Overall Cond  \\\n",
       "Lot Frontage                1.000000  0.365503      0.198900     -0.067383   \n",
       "Lot Area                    0.365503  1.000000      0.097188     -0.034759   \n",
       "Overall Qual                0.198900  0.097188      1.000000     -0.094812   \n",
       "Overall Cond               -0.067383 -0.034759     -0.094812      1.000000   \n",
       "Year Built                  0.115688  0.023258      0.597027     -0.368773   \n",
       "...                              ...       ...           ...           ...   \n",
       "Sale Condition_AdjLand     -0.046550 -0.020244     -0.049768     -0.051729   \n",
       "Sale Condition_Alloca       0.007688  0.024450     -0.041004     -0.025606   \n",
       "Sale Condition_Family       0.015972  0.018232     -0.024062     -0.031880   \n",
       "Sale Condition_Normal      -0.083478 -0.024052     -0.131968      0.167683   \n",
       "Sale Condition_Partial      0.113294  0.034169      0.331010     -0.143081   \n",
       "\n",
       "                        Year Built  Year Remod/Add  Mas Vnr Area  \\\n",
       "Lot Frontage              0.115688        0.085744      0.203383   \n",
       "Lot Area                  0.023258        0.021682      0.126586   \n",
       "Overall Qual              0.597027        0.569609      0.427470   \n",
       "Overall Cond             -0.368773        0.047680     -0.135088   \n",
       "Year Built                1.000000        0.612095      0.311828   \n",
       "...                            ...             ...           ...   \n",
       "Sale Condition_AdjLand   -0.077805       -0.078199     -0.018507   \n",
       "Sale Condition_Alloca    -0.025238       -0.034022     -0.017823   \n",
       "Sale Condition_Family    -0.036261       -0.049793     -0.017750   \n",
       "Sale Condition_Normal    -0.137162       -0.102775     -0.070109   \n",
       "Sale Condition_Partial    0.338843        0.323105      0.152010   \n",
       "\n",
       "                        BsmtFin SF 1  BsmtFin SF 2  Bsmt Unf SF  ...  \\\n",
       "Lot Frontage                0.199946      0.040161     0.107733  ...   \n",
       "Lot Area                    0.191546      0.083145     0.023657  ...   \n",
       "Overall Qual                0.284011     -0.041272     0.269956  ...   \n",
       "Overall Cond               -0.050920      0.041122    -0.136780  ...   \n",
       "Year Built                  0.279836     -0.027412     0.128983  ...   \n",
       "...                              ...           ...          ...  ...   \n",
       "Sale Condition_AdjLand     -0.028191     -0.018855    -0.006412  ...   \n",
       "Sale Condition_Alloca       0.025815     -0.026720    -0.061049  ...   \n",
       "Sale Condition_Family      -0.026518     -0.002098     0.024427  ...   \n",
       "Sale Condition_Normal      -0.016431      0.069015    -0.151087  ...   \n",
       "Sale Condition_Partial      0.044126     -0.087584     0.246640  ...   \n",
       "\n",
       "                        Sale Type_New  Sale Type_Oth  Sale Type_VWD  \\\n",
       "Lot Frontage                 0.115477      -0.003721       0.013673   \n",
       "Lot Area                     0.032328      -0.003937       0.008495   \n",
       "Overall Qual                 0.336153      -0.052845      -0.014340   \n",
       "Overall Cond                -0.147645      -0.018507       0.007263   \n",
       "Year Built                   0.343270      -0.013985      -0.008161   \n",
       "...                               ...            ...            ...   \n",
       "Sale Condition_AdjLand      -0.019111      -0.003138      -0.001185   \n",
       "Sale Condition_Alloca       -0.027083      -0.004447      -0.001679   \n",
       "Sale Condition_Family       -0.037638       0.050057      -0.002334   \n",
       "Sale Condition_Normal       -0.643836      -0.087383       0.008553   \n",
       "Sale Condition_Partial       0.986577      -0.014782      -0.005582   \n",
       "\n",
       "                        Sale Type_WD   Sale Condition_Abnorml  \\\n",
       "Lot Frontage                -0.085191                0.003067   \n",
       "Lot Area                    -0.015027               -0.014079   \n",
       "Overall Qual                -0.191898               -0.127738   \n",
       "Overall Cond                 0.161921               -0.059856   \n",
       "Year Built                  -0.203243               -0.120844   \n",
       "...                               ...                     ...   \n",
       "Sale Condition_AdjLand       0.025277               -0.016887   \n",
       "Sale Condition_Alloca        0.035820               -0.023931   \n",
       "Sale Condition_Family       -0.014601               -0.033257   \n",
       "Sale Condition_Normal        0.620601               -0.568899   \n",
       "Sale Condition_Partial      -0.751912               -0.079545   \n",
       "\n",
       "                        Sale Condition_AdjLand  Sale Condition_Alloca  \\\n",
       "Lot Frontage                         -0.046550               0.007688   \n",
       "Lot Area                             -0.020244               0.024450   \n",
       "Overall Qual                         -0.049768              -0.041004   \n",
       "Overall Cond                         -0.051729              -0.025606   \n",
       "Year Built                           -0.077805              -0.025238   \n",
       "...                                        ...                    ...   \n",
       "Sale Condition_AdjLand                1.000000              -0.005828   \n",
       "Sale Condition_Alloca                -0.005828               1.000000   \n",
       "Sale Condition_Family                -0.008099              -0.011477   \n",
       "Sale Condition_Normal                -0.138542              -0.196332   \n",
       "Sale Condition_Partial               -0.019371              -0.027452   \n",
       "\n",
       "                        Sale Condition_Family  Sale Condition_Normal  \\\n",
       "Lot Frontage                         0.015972              -0.083478   \n",
       "Lot Area                             0.018232              -0.024052   \n",
       "Overall Qual                        -0.024062              -0.131968   \n",
       "Overall Cond                        -0.031880               0.167683   \n",
       "Year Built                          -0.036261              -0.137162   \n",
       "...                                       ...                    ...   \n",
       "Sale Condition_AdjLand              -0.008099              -0.138542   \n",
       "Sale Condition_Alloca               -0.011477              -0.196332   \n",
       "Sale Condition_Family                1.000000              -0.272844   \n",
       "Sale Condition_Normal               -0.272844               1.000000   \n",
       "Sale Condition_Partial              -0.038150              -0.652596   \n",
       "\n",
       "                        Sale Condition_Partial  \n",
       "Lot Frontage                          0.113294  \n",
       "Lot Area                              0.034169  \n",
       "Overall Qual                          0.331010  \n",
       "Overall Cond                         -0.143081  \n",
       "Year Built                            0.338843  \n",
       "...                                        ...  \n",
       "Sale Condition_AdjLand               -0.019371  \n",
       "Sale Condition_Alloca                -0.027452  \n",
       "Sale Condition_Family                -0.038150  \n",
       "Sale Condition_Normal                -0.652596  \n",
       "Sale Condition_Partial                1.000000  \n",
       "\n",
       "[343 rows x 343 columns]"
      ]
     },
     "execution_count": 13,
     "metadata": {},
     "output_type": "execute_result"
    }
   ],
   "source": [
    "#Display the correlation matrix\n",
    "houses.corr()"
   ]
  },
  {
   "cell_type": "code",
   "execution_count": 14,
   "id": "b25a35e5",
   "metadata": {},
   "outputs": [],
   "source": [
    "#Scale training features to have mean 0 and variance 1\n",
    "\n",
    "scaler = StandardScaler()\n",
    "scaler.fit(X_train)\n",
    "X_train = scaler.transform(X_train)\n",
    "X_test = scaler.transform(X_test)"
   ]
  },
  {
   "cell_type": "code",
   "execution_count": 15,
   "id": "ea39d765",
   "metadata": {},
   "outputs": [],
   "source": [
    "#Use PCA transform on X_train, and store transformation\n",
    "\n",
    "PCA = PCA(n_components=200)\n",
    "PCA.fit(X_train)\n",
    "\n",
    "X_train_pca = PCA.transform(X_train)\n",
    "X_test_pca = PCA.transform(X_test)"
   ]
  },
  {
   "cell_type": "code",
   "execution_count": 16,
   "id": "8e35f0de",
   "metadata": {},
   "outputs": [
    {
     "name": "stdout",
     "output_type": "stream",
     "text": [
      "Using the PCA transform, we go from 343 features to 200 features\n"
     ]
    }
   ],
   "source": [
    "print('Using the PCA transform, we go from '+str(X_train.shape[1])+' features to '+str(X_train_pca.shape[1])+' features')"
   ]
  },
  {
   "cell_type": "markdown",
   "id": "43742c0f",
   "metadata": {},
   "source": [
    "# Model 0: Baseline classification using mean of prices"
   ]
  },
  {
   "cell_type": "code",
   "execution_count": 17,
   "id": "0fb48956",
   "metadata": {},
   "outputs": [
    {
     "name": "stdout",
     "output_type": "stream",
     "text": [
      "180796.0600682594\n"
     ]
    }
   ],
   "source": [
    "#Compute mean of prices and create constant array of length prices having entries equal to mean\n",
    "mean = prices.mean()\n",
    "const_mean_array = pd.Series(data=[mean]*len(prices))\n",
    "\n",
    "print(mean)"
   ]
  },
  {
   "cell_type": "markdown",
   "id": "7e8fa32c",
   "metadata": {},
   "source": [
    "The mean of the prices is equal to 180796.06. For model 0, we just classifying every house as having price equal to this mean."
   ]
  },
  {
   "cell_type": "code",
   "execution_count": 18,
   "id": "a0a85699",
   "metadata": {},
   "outputs": [
    {
     "name": "stdout",
     "output_type": "stream",
     "text": [
      "Model 0 has a RMSE of 79873.05865192253 on the housing data\n"
     ]
    }
   ],
   "source": [
    "rmse = mean_squared_error(const_mean_array, prices, squared=False)\n",
    "\n",
    "print('Model 0 has a RMSE of '+str(rmse)+' on the housing data')"
   ]
  },
  {
   "cell_type": "markdown",
   "id": "c998d0e1",
   "metadata": {},
   "source": [
    "# Model 1: Linear regression"
   ]
  },
  {
   "cell_type": "code",
   "execution_count": 19,
   "id": "a2bec87a",
   "metadata": {},
   "outputs": [],
   "source": [
    "#Fit X_train to y_train\n",
    "\n",
    "model1 = LinearRegression().fit(X_train_pca, y_train )"
   ]
  },
  {
   "cell_type": "code",
   "execution_count": 20,
   "id": "bf2c6714",
   "metadata": {},
   "outputs": [
    {
     "name": "stdout",
     "output_type": "stream",
     "text": [
      "Model 1 has a RMSE of 23318.07000890546 on the training data and 33022.460069188586 on the test data.\n"
     ]
    }
   ],
   "source": [
    "train_rmse = mean_squared_error(model1.predict(X_train_pca), y_train, squared=False)\n",
    "test_rmse = mean_squared_error(model1.predict(X_test_pca), y_test, squared=False)\n",
    "print('Model 1 has a RMSE of '+str(train_rmse)+' on the training data and '+str(test_rmse)+' on the test data.')"
   ]
  },
  {
   "cell_type": "markdown",
   "id": "f7e820dc",
   "metadata": {},
   "source": [
    "# Model 2: Regression tree with AdaBoost\n"
   ]
  },
  {
   "cell_type": "code",
   "execution_count": 21,
   "id": "9eddced1",
   "metadata": {},
   "outputs": [],
   "source": [
    "model2 = AdaBoostRegressor(n_estimators=11).fit(X_train_pca, y_train) "
   ]
  },
  {
   "cell_type": "code",
   "execution_count": 22,
   "id": "8a8f78b1",
   "metadata": {},
   "outputs": [
    {
     "name": "stdout",
     "output_type": "stream",
     "text": [
      "Model 2 has a RMSE of 34629.22023584677 on the training data and 38116.94619720778 on the test data.\n"
     ]
    }
   ],
   "source": [
    "train_rmse = mean_squared_error(model2.predict(X_train_pca), y_train, squared=False)\n",
    "test_rmse = mean_squared_error(model2.predict(X_test_pca), y_test, squared=False)\n",
    "print('Model 2 has a RMSE of '+str(train_rmse)+' on the training data and '+str(test_rmse)+' on the test data.')"
   ]
  },
  {
   "cell_type": "code",
   "execution_count": null,
   "id": "d435ccbf",
   "metadata": {},
   "outputs": [],
   "source": []
  }
 ],
 "metadata": {
  "kernelspec": {
   "display_name": "Python 3 (ipykernel)",
   "language": "python",
   "name": "python3"
  },
  "language_info": {
   "codemirror_mode": {
    "name": "ipython",
    "version": 3
   },
   "file_extension": ".py",
   "mimetype": "text/x-python",
   "name": "python",
   "nbconvert_exporter": "python",
   "pygments_lexer": "ipython3",
   "version": "3.9.16"
  }
 },
 "nbformat": 4,
 "nbformat_minor": 5
}
